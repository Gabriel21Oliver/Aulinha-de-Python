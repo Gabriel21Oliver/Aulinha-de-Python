{
  "nbformat": 4,
  "nbformat_minor": 0,
  "metadata": {
    "colab": {
      "provenance": [],
      "authorship_tag": "ABX9TyOOi4w6iJ7HaQQSm+KlYVsm",
      "include_colab_link": true
    },
    "kernelspec": {
      "name": "python3",
      "display_name": "Python 3"
    },
    "language_info": {
      "name": "python"
    }
  },
  "cells": [
    {
      "cell_type": "markdown",
      "metadata": {
        "id": "view-in-github",
        "colab_type": "text"
      },
      "source": [
        "<a href=\"https://colab.research.google.com/github/Gabriel21Oliver/Aulinha-de-Python/blob/main/json.ipynb\" target=\"_parent\"><img src=\"https://colab.research.google.com/assets/colab-badge.svg\" alt=\"Open In Colab\"/></a>"
      ]
    },
    {
      "cell_type": "code",
      "execution_count": null,
      "metadata": {
        "colab": {
          "base_uri": "https://localhost:8080/"
        },
        "id": "rJzv5gwhNiIR",
        "outputId": "84445623-9e9d-40ac-c786-4ce67247a127"
      },
      "outputs": [
        {
          "output_type": "stream",
          "name": "stdout",
          "text": [
            "\n",
            "JSON :  {'cep': '30140-071', 'logradouro': 'Rua dos Aimorés', 'complemento': 'de 971/972 a 1399/1400', 'bairro': 'Boa Viagem', 'localidade': 'Belo Horizonte', 'uf': 'MG', 'ibge': '3106200', 'gia': '', 'ddd': '31', 'siafi': '4123'}\n",
            "\n"
          ]
        }
      ],
      "source": [
        "import requests\n",
        "\n",
        "url = 'https://viacep.com.br/ws/'\n",
        "cep = '30140071'\n",
        "formato = '/json/'\n",
        "\n",
        "r = requests.get(url + cep + formato)\n",
        "\n",
        "if(r.status_code == 200):\n",
        " print()\n",
        " print('JSON : ', r.json())\n",
        " print()\n",
        "else:\n",
        " print('Nao houve sucesso na requisicao.')"
      ]
    },
    {
      "cell_type": "code",
      "source": [],
      "metadata": {
        "id": "7JAznwT_UJg9"
      },
      "execution_count": null,
      "outputs": []
    },
    {
      "cell_type": "code",
      "source": [
        "import requests\n",
        "\n",
        "url = 'https://viacep.com.br/ws/'\n",
        "\n",
        "listaceps = []\n",
        "formato = '/json/'\n",
        "\n",
        "for cep in range(4):\n",
        "  cep = input('digite o cep')\n",
        "  r = requests.get(url + cep + formato)\n",
        "\n",
        "  print()\n",
        "\n",
        "  if(r.status_code == 200):\n",
        "    print()\n",
        "    print('CEP : ', cep)\n",
        "    print('Json : ', r.json())\n",
        "    print()\n",
        "  else:\n",
        "    print('Nao houve sucesso na requisicao.')\n"
      ],
      "metadata": {
        "colab": {
          "base_uri": "https://localhost:8080/",
          "height": 252
        },
        "id": "kmep80WoXgLv",
        "outputId": "a47ed762-d2b6-4388-b60c-ecaa46802747"
      },
      "execution_count": null,
      "outputs": [
        {
          "name": "stdout",
          "output_type": "stream",
          "text": [
            "digite o seu cep32677380\n"
          ]
        },
        {
          "output_type": "error",
          "ename": "TypeError",
          "evalue": "ignored",
          "traceback": [
            "\u001b[0;31m---------------------------------------------------------------------------\u001b[0m",
            "\u001b[0;31mTypeError\u001b[0m                                 Traceback (most recent call last)",
            "\u001b[0;32m<ipython-input-17-120bfbd95a93>\u001b[0m in \u001b[0;36m<module>\u001b[0;34m\u001b[0m\n\u001b[1;32m      9\u001b[0m   \u001b[0mlistaceps\u001b[0m\u001b[0;34m.\u001b[0m\u001b[0mappend\u001b[0m\u001b[0;34m(\u001b[0m\u001b[0minput\u001b[0m\u001b[0;34m(\u001b[0m\u001b[0;34m'digite o seu cep'\u001b[0m\u001b[0;34m)\u001b[0m\u001b[0;34m)\u001b[0m\u001b[0;34m\u001b[0m\u001b[0;34m\u001b[0m\u001b[0m\n\u001b[1;32m     10\u001b[0m \u001b[0;34m\u001b[0m\u001b[0m\n\u001b[0;32m---> 11\u001b[0;31m   \u001b[0mr\u001b[0m \u001b[0;34m=\u001b[0m \u001b[0mrequests\u001b[0m\u001b[0;34m.\u001b[0m\u001b[0mget\u001b[0m\u001b[0;34m(\u001b[0m\u001b[0murl\u001b[0m \u001b[0;34m+\u001b[0m \u001b[0mcep\u001b[0m \u001b[0;34m+\u001b[0m \u001b[0mformato\u001b[0m\u001b[0;34m)\u001b[0m\u001b[0;34m\u001b[0m\u001b[0;34m\u001b[0m\u001b[0m\n\u001b[0m\u001b[1;32m     12\u001b[0m \u001b[0;34m\u001b[0m\u001b[0m\n\u001b[1;32m     13\u001b[0m   \u001b[0mprint\u001b[0m\u001b[0;34m(\u001b[0m\u001b[0;34m)\u001b[0m\u001b[0;34m\u001b[0m\u001b[0;34m\u001b[0m\u001b[0m\n",
            "\u001b[0;31mTypeError\u001b[0m: can only concatenate str (not \"int\") to str"
          ]
        }
      ]
    },
    {
      "cell_type": "code",
      "source": [
        "import requests\n",
        "\n",
        "url = 'https://viacep.com.br/ws/MG/Belo Horizonte/Rua dos Aimores'\n",
        "\n",
        "formato = '/json/'\n",
        "\n",
        "r = requests.get(url + formato)\n",
        "\n",
        "if(r.status_code == 200):\n",
        "  print()\n",
        "  print('JSON : ', r.json())\n",
        "  lista = r.json()\n",
        "  print('Apenas o primeiro item: ', lista[0])\n",
        "\n",
        "else:\n",
        "  print('Nao houve sucesso na requisicao.')\n"
      ],
      "metadata": {
        "id": "gMPc14ccexu9"
      },
      "execution_count": null,
      "outputs": []
    },
    {
      "cell_type": "code",
      "source": [
        "import requests\n",
        "arq = open('/content/data.txt').read().split(';')\n",
        "url = 'https://viacep.com.br/ws/'\n",
        "formato = '/json/'\n",
        "for cep in arq:\n",
        "  r = requests.get(url + cep + formato)\n",
        "  if(r.status_code == 200):\n",
        "    print()\n",
        "    print('CEP:', cep)\n",
        "    print('RUA:', r.json()['logradouro'])\n",
        "    print()\n",
        "  else:\n",
        "   print('Nao houve sucesso na requisicao.')"
      ],
      "metadata": {
        "colab": {
          "base_uri": "https://localhost:8080/"
        },
        "id": "hvQjeWz6UYAk",
        "outputId": "784f9abc-c13c-4255-8417-c775238b11af"
      },
      "execution_count": null,
      "outputs": [
        {
          "output_type": "stream",
          "name": "stdout",
          "text": [
            "\n",
            "CEP: 32043047\n",
            "RUA: Avenida Padre Joaquim Martins\n",
            "\n",
            "\n",
            "CEP: 32210110\n",
            "RUA: Avenida General David Sarnoff\n",
            "\n",
            "\n",
            "CEP: 32606588\n",
            "RUA: Rua Antônio Lambertucci\n",
            "\n"
          ]
        }
      ]
    },
    {
      "cell_type": "code",
      "source": [
        "import requests\n",
        "\n",
        "url = 'https://api.hgbrasil.com/finance'\n",
        "\n",
        "formato = '/json/'\n",
        "\n",
        "r = requests.get(url + formato)\n",
        "\n",
        "if(r.status_code == 200):\n",
        "  print()\n",
        "  print('JSON : ', r.json())\n",
        "  lista = r.json()\n",
        "  print('Apenas o primeiro item: ', lista[0])\n",
        "\n",
        "else:\n",
        "  print('Nao houve sucesso na requisicao.')\n"
      ],
      "metadata": {
        "colab": {
          "base_uri": "https://localhost:8080/"
        },
        "id": "floEOaOlZbB1",
        "outputId": "5cfc095c-9917-4233-ad1e-acb4313544de"
      },
      "execution_count": null,
      "outputs": [
        {
          "output_type": "stream",
          "name": "stdout",
          "text": [
            "Nao houve sucesso na requisicao.\n"
          ]
        }
      ]
    },
    {
      "cell_type": "code",
      "source": [
        "import requests\n",
        "\n",
        "url = 'https://api.hgbrasil.com/finance?format=json-cors&key=a629b663'\n",
        "\n",
        "resposta = requests.get(url)\n",
        "\n",
        "if resposta.status_code == 200:\n",
        "    json = resposta.json()\n",
        "    print(json['results']['currencies'])\n",
        "    print('Dolar: ')\n",
        "    print(json['results']['currencies']['USD']['buy'])\n",
        "    print('Euro: ')\n",
        "    print(json['results']['currencies']['EUR']['buy'])\n",
        "else:\n",
        "    print('Falhou')"
      ],
      "metadata": {
        "colab": {
          "base_uri": "https://localhost:8080/"
        },
        "id": "B8bkq-BqdZYD",
        "outputId": "244e0b43-3478-4356-a5fc-9d729110f3b5"
      },
      "execution_count": null,
      "outputs": [
        {
          "output_type": "stream",
          "name": "stdout",
          "text": [
            "{'source': 'BRL', 'USD': {'name': 'Dollar', 'buy': 5.1637, 'sell': 5.1621, 'variation': -3.359}, 'EUR': {'name': 'Euro', 'buy': 5.1743, 'sell': 5.1728, 'variation': -2.789}, 'GBP': {'name': 'Pound Sterling', 'buy': 5.9441, 'sell': None, 'variation': -3.786}, 'ARS': {'name': 'Argentine Peso', 'buy': 0.0324, 'sell': None, 'variation': -5.524}, 'CAD': {'name': 'Canadian Dollar', 'buy': 3.8262, 'sell': None, 'variation': -2.843}, 'AUD': {'name': 'Australian Dollar', 'buy': 3.3456, 'sell': None, 'variation': -2.912}, 'JPY': {'name': 'Japanese Yen', 'buy': 0.0352, 'sell': None, 'variation': -3.529}, 'CNY': {'name': 'Renminbi', 'buy': 0.7143, 'sell': None, 'variation': -3.368}, 'BTC': {'name': 'Bitcoin', 'buy': 112571.519, 'sell': 112571.519, 'variation': 1.019}}\n",
            "Dolar: \n",
            "5.1637\n",
            "Euro: \n",
            "5.1743\n"
          ]
        }
      ]
    },
    {
      "cell_type": "code",
      "source": [
        "import requests\n",
        "\n",
        "url = 'https://covid19-brazil-api.now.sh/api/report/v1/brazil'\n",
        "cep = '30140071'\n",
        "formato = '/json/'\n",
        "\n",
        "r = requests.get(estado + formato)\n",
        "\n",
        "if(r.status_code == 200):\n",
        " print()\n",
        " print('JSON : ', r.json())\n",
        " print()\n",
        "else:\n",
        " print('Nao houve sucesso na requisicao.')"
      ],
      "metadata": {
        "id": "HBm-wYf5UMFz",
        "colab": {
          "base_uri": "https://localhost:8080/",
          "height": 235
        },
        "outputId": "e452b30e-ff6a-4616-ace2-b2650ae1bde2"
      },
      "execution_count": null,
      "outputs": [
        {
          "output_type": "error",
          "ename": "NameError",
          "evalue": "ignored",
          "traceback": [
            "\u001b[0;31m---------------------------------------------------------------------------\u001b[0m",
            "\u001b[0;31mNameError\u001b[0m                                 Traceback (most recent call last)",
            "\u001b[0;32m<ipython-input-3-27c49b42439c>\u001b[0m in \u001b[0;36m<module>\u001b[0;34m\u001b[0m\n\u001b[1;32m      5\u001b[0m \u001b[0mformato\u001b[0m \u001b[0;34m=\u001b[0m \u001b[0;34m'/json/'\u001b[0m\u001b[0;34m\u001b[0m\u001b[0;34m\u001b[0m\u001b[0m\n\u001b[1;32m      6\u001b[0m \u001b[0;34m\u001b[0m\u001b[0m\n\u001b[0;32m----> 7\u001b[0;31m \u001b[0mr\u001b[0m \u001b[0;34m=\u001b[0m \u001b[0mrequests\u001b[0m\u001b[0;34m.\u001b[0m\u001b[0mget\u001b[0m\u001b[0;34m(\u001b[0m\u001b[0mestado\u001b[0m \u001b[0;34m+\u001b[0m \u001b[0mformato\u001b[0m\u001b[0;34m)\u001b[0m\u001b[0;34m\u001b[0m\u001b[0;34m\u001b[0m\u001b[0m\n\u001b[0m\u001b[1;32m      8\u001b[0m \u001b[0;34m\u001b[0m\u001b[0m\n\u001b[1;32m      9\u001b[0m \u001b[0;32mif\u001b[0m\u001b[0;34m(\u001b[0m\u001b[0mr\u001b[0m\u001b[0;34m.\u001b[0m\u001b[0mstatus_code\u001b[0m \u001b[0;34m==\u001b[0m \u001b[0;36m200\u001b[0m\u001b[0;34m)\u001b[0m\u001b[0;34m:\u001b[0m\u001b[0;34m\u001b[0m\u001b[0;34m\u001b[0m\u001b[0m\n",
            "\u001b[0;31mNameError\u001b[0m: name 'estado' is not defined"
          ]
        }
      ]
    }
  ]
}