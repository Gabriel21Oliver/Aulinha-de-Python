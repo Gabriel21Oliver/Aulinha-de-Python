{
  "nbformat": 4,
  "nbformat_minor": 0,
  "metadata": {
    "colab": {
      "provenance": [],
      "toc_visible": true,
      "authorship_tag": "ABX9TyMA94evmTcKfPVs5CjF7drT",
      "include_colab_link": true
    },
    "kernelspec": {
      "name": "python3",
      "display_name": "Python 3"
    },
    "language_info": {
      "name": "python"
    }
  },
  "cells": [
    {
      "cell_type": "markdown",
      "metadata": {
        "id": "view-in-github",
        "colab_type": "text"
      },
      "source": [
        "<a href=\"https://colab.research.google.com/github/Gabriel21Oliver/Aulinha-de-Python/blob/main/vetor_ipynb2.ipynb\" target=\"_parent\"><img src=\"https://colab.research.google.com/assets/colab-badge.svg\" alt=\"Open In Colab\"/></a>"
      ]
    },
    {
      "cell_type": "code",
      "execution_count": null,
      "metadata": {
        "id": "sEHBk3C-wobB",
        "colab": {
          "base_uri": "https://localhost:8080/"
        },
        "outputId": "dbcfb3d2-4797-40f1-cbe0-09b77b54cd8d"
      },
      "outputs": [
        {
          "output_type": "stream",
          "name": "stdout",
          "text": [
            "digite seu saldo1345\n",
            "digite a cotação do dolar4.85\n",
            "o valor convertido sera: 277.32 Us\n"
          ]
        }
      ],
      "source": [
        "def convec (dolar, real):\n",
        "\n",
        " dolar=dolar/real\n",
        "real = float(input('digite seu saldo'))\n",
        "dolar = float(input('digite a cotação do dolar'))\n",
        "convec = real/dolar\n",
        "print('o valor convertido sera: {:.2f} Us'.format(convec))\n",
        "\n",
        "\n"
      ]
    },
    {
      "cell_type": "code",
      "source": [],
      "metadata": {
        "id": "jBPNGi4pmQCf"
      },
      "execution_count": null,
      "outputs": []
    },
    {
      "cell_type": "code",
      "source": [],
      "metadata": {
        "id": "XAQZ1gIR7Grt"
      },
      "execution_count": null,
      "outputs": []
    },
    {
      "cell_type": "code",
      "source": [],
      "metadata": {
        "id": "4cIVP8Rt7IGc"
      },
      "execution_count": null,
      "outputs": []
    },
    {
      "cell_type": "code",
      "source": [
        "meuVetor = ['10']*4\n",
        "for valor in meuVetor:\n",
        "  print(valor)\n"
      ],
      "metadata": {
        "colab": {
          "base_uri": "https://localhost:8080/"
        },
        "id": "fkL7seEt-Int",
        "outputId": "5998346e-4209-4cf3-8501-c1efdd10d71c"
      },
      "execution_count": null,
      "outputs": [
        {
          "output_type": "stream",
          "name": "stdout",
          "text": [
            "10\n",
            "10\n",
            "10\n",
            "10\n"
          ]
        }
      ]
    },
    {
      "cell_type": "code",
      "source": [
        "import random;\n",
        "tam = int(input('digite o tamanho'))\n",
        "v=[0]*tam;\n",
        "\n",
        "\n",
        "for i in range(tam):\n",
        "  v[i] = random.randint(0,900);\n",
        "\n",
        "\n",
        "print(v)\n",
        "\n",
        "\n",
        "\n",
        "\n",
        "\n"
      ],
      "metadata": {
        "colab": {
          "base_uri": "https://localhost:8080/"
        },
        "id": "BWRrMTVyGXTK",
        "outputId": "b8c30710-0190-4861-a7c3-e4aea5b0a10a"
      },
      "execution_count": null,
      "outputs": [
        {
          "output_type": "stream",
          "name": "stdout",
          "text": [
            "digite o tamanho8\n",
            "[5, 9, 6, 2, 0, 9, 3, 0]\n"
          ]
        }
      ]
    },
    {
      "cell_type": "code",
      "source": [
        "\n",
        "import random;\n",
        "tam = int(input('digite o tamanho: '))\n",
        "v=[0]*tam;\n",
        "print(v)\n",
        "\n",
        "for i in range(tam):\n",
        "  v[i] = random.randint(0,9);\n",
        "\n",
        "  if(v[i]%2==1\n",
        "      ):\n",
        "\n",
        "    v[i]= 1\n",
        "  else:\n",
        "    v[i] = 0\n",
        "\n",
        "print(v)\n"
      ],
      "metadata": {
        "colab": {
          "base_uri": "https://localhost:8080/"
        },
        "id": "t3fB3oXuILYB",
        "outputId": "47c183cf-654e-465f-eb4d-c9ea3235f5ff"
      },
      "execution_count": null,
      "outputs": [
        {
          "output_type": "stream",
          "name": "stdout",
          "text": [
            "digite o tamanho: 21\n",
            "[0, 0, 0, 0, 0, 0, 0, 0, 0, 0, 0, 0, 0, 0, 0, 0, 0, 0, 0, 0, 0]\n",
            "[1, 0, 1, 0, 0, 1, 1, 1, 1, 1, 0, 0, 0, 1, 1, 0, 1, 1, 1, 1, 0]\n"
          ]
        }
      ]
    },
    {
      "cell_type": "code",
      "source": [
        "import random\n",
        "\n",
        "def func (v):\n",
        "  for i in range(fun):\n",
        "    if(v[i]%2==1):\n",
        "\n",
        "      v[i]= 1\n",
        "    else:\n",
        "      v[i] = 0\n",
        "  return v\n",
        "\n",
        "fun = (int(input('digite um numero: ')))\n",
        "v=[0]*fun\n",
        "for i in range(fun):\n",
        "  v[i] = random.randint(0,9);\n",
        "func(v)\n",
        "\n",
        "\n",
        "\n",
        "\n",
        "\n",
        "\n",
        "\n"
      ],
      "metadata": {
        "colab": {
          "base_uri": "https://localhost:8080/"
        },
        "id": "li4VzxQm64Rs",
        "outputId": "a5819880-97a1-4281-fc11-99b1f4215e6b"
      },
      "execution_count": 1,
      "outputs": [
        {
          "name": "stdout",
          "output_type": "stream",
          "text": [
            "digite um numero: 5\n"
          ]
        },
        {
          "output_type": "execute_result",
          "data": {
            "text/plain": [
              "[1, 0, 1, 1, 1]"
            ]
          },
          "metadata": {},
          "execution_count": 1
        }
      ]
    },
    {
      "cell_type": "code",
      "source": [],
      "metadata": {
        "id": "qHkhQcdDOKGm"
      },
      "execution_count": null,
      "outputs": []
    },
    {
      "cell_type": "code",
      "source": [
        "\n"
      ],
      "metadata": {
        "id": "dTMicaJm_7bw"
      },
      "execution_count": null,
      "outputs": []
    },
    {
      "cell_type": "code",
      "source": [
        "#funçao para fazer o rerverse do vetor\n",
        "\n",
        "import random\n",
        "\n",
        "\n",
        "\n",
        "fun = (int(input('digite um numero: ')))\n",
        "v1=[0]*fun\n",
        "v2=[0]*fun\n",
        "for i in range(fun):\n",
        "  v1[i] = random.randint(0,9);\n",
        "\n",
        "for i in range(len(v1)):\n",
        "  v2[i] = v1[tam-1-i]\n",
        "\n",
        "print(v1)\n",
        "\n",
        "print(v2)\n",
        "\n",
        "\n",
        "\n",
        "\n",
        "\n"
      ],
      "metadata": {
        "colab": {
          "base_uri": "https://localhost:8080/"
        },
        "outputId": "e6a8b06f-16d0-474b-c011-ea5c1ead9cb4",
        "id": "GN9WN16LKRAJ"
      },
      "execution_count": null,
      "outputs": [
        {
          "output_type": "stream",
          "name": "stdout",
          "text": [
            "digite um numero: 10\n",
            "[1, 4, 4, 4, 9, 6, 8, 0, 8, 3]\n",
            "[3, 8, 0, 8, 6, 9, 4, 4, 4, 1]\n"
          ]
        }
      ]
    },
    {
      "cell_type": "code",
      "source": [
        "import random\n",
        "\n",
        "def reverse(v1, v2):\n",
        "  tam2=len(v1)+len(v2)\n",
        "  v3=[0]*tam2\n",
        "  for i in range(tam2):\n",
        "    if(i<=len(v1)):\n",
        "      v3[i]=v1[i]\n",
        "    else:\n",
        "      v3[i] = v2[i-len(v2)]\n",
        "  return v3\n",
        "\n",
        "tam = (int(input('digite um numero: ')))\n",
        "v1[i] = random.randint(0,9);\n",
        "v2[i] = random.randint(10,90);\n",
        "\n",
        "v3= v1,v2\n",
        "\n",
        "print(v3)"
      ],
      "metadata": {
        "colab": {
          "base_uri": "https://localhost:8080/",
          "height": 262
        },
        "id": "cSe_xKelOMPE",
        "outputId": "dfdc9c6e-8083-4594-d766-d1af8fe44fbd"
      },
      "execution_count": null,
      "outputs": [
        {
          "name": "stdout",
          "output_type": "stream",
          "text": [
            "digite um numero: 10\n"
          ]
        },
        {
          "output_type": "error",
          "ename": "IndexError",
          "evalue": "ignored",
          "traceback": [
            "\u001b[0;31m---------------------------------------------------------------------------\u001b[0m",
            "\u001b[0;31mIndexError\u001b[0m                                Traceback (most recent call last)",
            "\u001b[0;32m<ipython-input-26-d7d9a19023ba>\u001b[0m in \u001b[0;36m<cell line: 14>\u001b[0;34m()\u001b[0m\n\u001b[1;32m     12\u001b[0m \u001b[0;34m\u001b[0m\u001b[0m\n\u001b[1;32m     13\u001b[0m \u001b[0mtam\u001b[0m \u001b[0;34m=\u001b[0m \u001b[0;34m(\u001b[0m\u001b[0mint\u001b[0m\u001b[0;34m(\u001b[0m\u001b[0minput\u001b[0m\u001b[0;34m(\u001b[0m\u001b[0;34m'digite um numero: '\u001b[0m\u001b[0;34m)\u001b[0m\u001b[0;34m)\u001b[0m\u001b[0;34m)\u001b[0m\u001b[0;34m\u001b[0m\u001b[0;34m\u001b[0m\u001b[0m\n\u001b[0;32m---> 14\u001b[0;31m \u001b[0mv1\u001b[0m\u001b[0;34m[\u001b[0m\u001b[0mi\u001b[0m\u001b[0;34m]\u001b[0m \u001b[0;34m=\u001b[0m \u001b[0mrandom\u001b[0m\u001b[0;34m.\u001b[0m\u001b[0mrandint\u001b[0m\u001b[0;34m(\u001b[0m\u001b[0;36m0\u001b[0m\u001b[0;34m,\u001b[0m\u001b[0;36m9\u001b[0m\u001b[0;34m)\u001b[0m\u001b[0;34m;\u001b[0m\u001b[0;34m\u001b[0m\u001b[0;34m\u001b[0m\u001b[0m\n\u001b[0m\u001b[1;32m     15\u001b[0m \u001b[0mv2\u001b[0m\u001b[0;34m[\u001b[0m\u001b[0mi\u001b[0m\u001b[0;34m]\u001b[0m \u001b[0;34m=\u001b[0m \u001b[0mrandom\u001b[0m\u001b[0;34m.\u001b[0m\u001b[0mrandint\u001b[0m\u001b[0;34m(\u001b[0m\u001b[0;36m10\u001b[0m\u001b[0;34m,\u001b[0m\u001b[0;36m90\u001b[0m\u001b[0;34m)\u001b[0m\u001b[0;34m;\u001b[0m\u001b[0;34m\u001b[0m\u001b[0;34m\u001b[0m\u001b[0m\n\u001b[1;32m     16\u001b[0m \u001b[0;34m\u001b[0m\u001b[0m\n",
            "\u001b[0;31mIndexError\u001b[0m: list assignment index out of range"
          ]
        }
      ]
    },
    {
      "cell_type": "code",
      "source": [
        "import random\n",
        "v1 = [0]*3\n",
        "v2 = [0]*3\n",
        "\n",
        "for i in range(3):\n",
        "    v1[i]=random.randint(0,9)\n",
        "    v2[i]=random.randint(10,90)\n",
        "\n",
        "\n",
        "for i in range(3):\n",
        "  # fazendo vetor decrescente\n",
        "  v2[i]=v1[(len(v1)-1-i)]\n",
        "\n",
        "\n",
        "\n",
        "\n",
        "print(v1)\n",
        "print(v2)\n"
      ],
      "metadata": {
        "colab": {
          "base_uri": "https://localhost:8080/"
        },
        "id": "G7F69_BZ7LO0",
        "outputId": "95423f4b-3e6d-4f37-d8a2-b7f912780130"
      },
      "execution_count": null,
      "outputs": [
        {
          "output_type": "stream",
          "name": "stdout",
          "text": [
            "[2, 2, 7]\n",
            "[7, 2, 2]\n"
          ]
        }
      ]
    },
    {
      "cell_type": "code",
      "source": [
        "import random\n",
        "v1 = [0]*3\n",
        "v2 = [0]*3\n",
        "tam= len(v1)+len(v2)\n",
        "v3 = [0]*tam\n",
        "\n",
        "for i in range(3):\n",
        "  v1[i]=random.randint(0,9)\n",
        "  v2[i]=random.randint(10,90)\n",
        "\n",
        "for i in range(len(v3)):\n",
        "\n",
        "  if(i<len(v1)):\n",
        "   v3[i]=v1[i]\n",
        "else:\n",
        "   v3[i]=v[i-len(v1)]\n",
        "\n",
        "\n",
        "\n",
        "\n",
        "\n"
      ],
      "metadata": {
        "colab": {
          "base_uri": "https://localhost:8080/",
          "height": 245
        },
        "id": "-qsE949uMcO4",
        "outputId": "623b19f3-2fea-46bb-e7c2-0adac106cf89"
      },
      "execution_count": null,
      "outputs": [
        {
          "output_type": "error",
          "ename": "NameError",
          "evalue": "ignored",
          "traceback": [
            "\u001b[0;31m---------------------------------------------------------------------------\u001b[0m",
            "\u001b[0;31mNameError\u001b[0m                                 Traceback (most recent call last)",
            "\u001b[0;32m<ipython-input-25-129c4865c629>\u001b[0m in \u001b[0;36m<cell line: 11>\u001b[0;34m()\u001b[0m\n\u001b[1;32m     14\u001b[0m    \u001b[0mv3\u001b[0m\u001b[0;34m[\u001b[0m\u001b[0mi\u001b[0m\u001b[0;34m]\u001b[0m\u001b[0;34m=\u001b[0m\u001b[0mv1\u001b[0m\u001b[0;34m[\u001b[0m\u001b[0mi\u001b[0m\u001b[0;34m]\u001b[0m\u001b[0;34m\u001b[0m\u001b[0;34m\u001b[0m\u001b[0m\n\u001b[1;32m     15\u001b[0m \u001b[0;32melse\u001b[0m\u001b[0;34m:\u001b[0m\u001b[0;34m\u001b[0m\u001b[0;34m\u001b[0m\u001b[0m\n\u001b[0;32m---> 16\u001b[0;31m    \u001b[0mv3\u001b[0m\u001b[0;34m[\u001b[0m\u001b[0mi\u001b[0m\u001b[0;34m]\u001b[0m\u001b[0;34m=\u001b[0m\u001b[0mv\u001b[0m\u001b[0;34m[\u001b[0m\u001b[0mi\u001b[0m\u001b[0;34m-\u001b[0m\u001b[0mlen\u001b[0m\u001b[0;34m(\u001b[0m\u001b[0mv1\u001b[0m\u001b[0;34m)\u001b[0m\u001b[0;34m]\u001b[0m\u001b[0;34m\u001b[0m\u001b[0;34m\u001b[0m\u001b[0m\n\u001b[0m\u001b[1;32m     17\u001b[0m \u001b[0;34m\u001b[0m\u001b[0m\n\u001b[1;32m     18\u001b[0m \u001b[0;34m\u001b[0m\u001b[0m\n",
            "\u001b[0;31mNameError\u001b[0m: name 'v' is not defined"
          ]
        }
      ]
    },
    {
      "cell_type": "code",
      "source": [
        "a= int(input('digite o valor'))\n",
        "b= int(input('digite outro valor'))\n",
        "print('Antes da troca')\n",
        "print('a= ',a)\n",
        "print('b= ',b )\n",
        "aux=a\n",
        "a=b\n",
        "b=aux\n",
        "print('')\n",
        "print('depois da troca')\n",
        "print('a= ',a)\n",
        "print('b = ',b)\n",
        "\n"
      ],
      "metadata": {
        "colab": {
          "base_uri": "https://localhost:8080/"
        },
        "id": "64r43vNxP0CN",
        "outputId": "f67ecc39-1e33-4a37-c837-5b5717328372"
      },
      "execution_count": null,
      "outputs": [
        {
          "output_type": "stream",
          "name": "stdout",
          "text": [
            "digite o valor10\n",
            "digite outro valor20\n",
            "Antes da troca\n",
            "a=  10\n",
            "b=  20\n",
            "\n",
            "depois da troca\n",
            "a=  20\n",
            "b =  10\n"
          ]
        }
      ]
    },
    {
      "cell_type": "code",
      "source": [
        "a= int(input('digite o valor'))\n",
        "b= int(input('digite outro valor'))\n",
        "print('Antes da troca')\n",
        "print('a= ',a)\n",
        "print('b= ',b )\n",
        "a=a+b\n",
        "b=a-b\n",
        "a=a-b\n",
        "print('')\n",
        "print('depois da troca')\n",
        "print('a= ',a)\n",
        "print('b = ',b)\n"
      ],
      "metadata": {
        "id": "dhyaf2kwSxd2"
      },
      "execution_count": null,
      "outputs": []
    },
    {
      "cell_type": "code",
      "source": [
        "import sqlite3\n",
        "\n",
        "con = sqlite3.connect('cadastro')\n",
        "print('conexao aberta!!');\n",
        "\n",
        "#Criando alunos no sqlite\n",
        "\n",
        "con.execute('CREATE table if not exists alunos(matricula integer PRIMARY KEY AUTOINCREMENT, nome, string, cpf integer);')\n",
        "con.commit()\n",
        "\n",
        "print('tabela criada com sucesso!')"
      ],
      "metadata": {
        "id": "TGKHWy8c8BzM",
        "colab": {
          "base_uri": "https://localhost:8080/"
        },
        "outputId": "2b69dc0d-fa7d-4a67-8c73-e8a324c2d672"
      },
      "execution_count": null,
      "outputs": [
        {
          "output_type": "stream",
          "name": "stdout",
          "text": [
            "conexao aberta!!\n",
            "tabela criada com sucesso!\n"
          ]
        }
      ]
    },
    {
      "cell_type": "code",
      "source": [
        "# Inserindo valores na tabala\n",
        "\n",
        "con.execute(\"INSERT INTO alunos(nome,CPF) VALUES('Gabriel Li0ndao', 000); \")\n",
        "con.commit()"
      ],
      "metadata": {
        "id": "Ik45VTIdRuYq"
      },
      "execution_count": null,
      "outputs": []
    },
    {
      "cell_type": "code",
      "source": [
        "#Consulta a alunos\n",
        "\n",
        "consulta = con.execute('SELECT matricula, nome CPF FROM alunos;')\n",
        "linhas=consulta.fetchall()\n",
        "print(linhas)"
      ],
      "metadata": {
        "colab": {
          "base_uri": "https://localhost:8080/"
        },
        "id": "2NQ2tvMDVZlY",
        "outputId": "fac47e15-a6ee-4464-b730-a0c7974c2d1b"
      },
      "execution_count": null,
      "outputs": [
        {
          "output_type": "stream",
          "name": "stdout",
          "text": [
            "[(1, 'Gabriel Li0ndao'), (2, 'Gabriel Li0ndao'), (3, 'Gabriel Li0ndao'), (4, 'Gabriel Li0ndao')]\n"
          ]
        }
      ]
    },
    {
      "cell_type": "code",
      "source": [
        "#Update alunos\n",
        "\n",
        "con.execute(\"UPDATE alunos SET nome = ?, CPF = ? WHERE matricula = ?\", (\"Chaman\",1, 1))\n",
        "\n",
        "it()"
      ],
      "metadata": {
        "id": "KOLfXXJKYG5H"
      },
      "execution_count": null,
      "outputs": []
    },
    {
      "cell_type": "code",
      "source": [
        "import requests\n",
        "\n",
        "url = 'http'"
      ],
      "metadata": {
        "id": "LSXTMNORD7ZG"
      },
      "execution_count": null,
      "outputs": []
    },
    {
      "cell_type": "code",
      "source": [
        "from tkinter import *\n",
        "import tkinter as tk\n",
        "from tkinter import messagebox\n",
        "import random\n",
        "\n",
        "def no():\n",
        "    messagebox.showinfo('', \"Thanks bro\")\n",
        "    quit()\n",
        "\n",
        "def motionMouse(event):\n",
        "\n",
        "    btnYes.place(x=random.randint(0, 500), y=random.randint(0, 500))\n",
        "\n",
        "root = Tk()\n",
        "root.geometry('600x600')\n",
        "root.title('survey')\n",
        "root.resizable(width=False, height=False)\n",
        "root['bg']  = 'white'\n",
        "\n",
        "\n",
        "\n",
        "label = Label(root, text='Are you say?', font='Arial 20 bold', bg='white').pack()\n",
        "btnYes = Button(root, text='N', font='Arial 28 bold')\n",
        "btnYes.place(x=170, y=100)\n",
        "\n",
        "btnYes.bind('<Enter>', motionMouse)\n",
        "\n",
        "btnNo = Button(root, text='Yes', font='Arial 20 bold', command=no).place(x=350, y=100)\n",
        "\n",
        "root.mainloop()\n"
      ],
      "metadata": {
        "id": "qRvpCe44NZMV",
        "colab": {
          "base_uri": "https://localhost:8080/",
          "height": 401
        },
        "outputId": "9f9fdca2-28ab-47f5-a42e-5eb4ab77a1b9"
      },
      "execution_count": null,
      "outputs": [
        {
          "output_type": "error",
          "ename": "TclError",
          "evalue": "ignored",
          "traceback": [
            "\u001b[0;31m---------------------------------------------------------------------------\u001b[0m",
            "\u001b[0;31mTclError\u001b[0m                                  Traceback (most recent call last)",
            "\u001b[0;32m<ipython-input-17-b8bf4c962968>\u001b[0m in \u001b[0;36m<cell line: 14>\u001b[0;34m()\u001b[0m\n\u001b[1;32m     12\u001b[0m     \u001b[0mbtnYes\u001b[0m\u001b[0;34m.\u001b[0m\u001b[0mplace\u001b[0m\u001b[0;34m(\u001b[0m\u001b[0mx\u001b[0m\u001b[0;34m=\u001b[0m\u001b[0mrandom\u001b[0m\u001b[0;34m.\u001b[0m\u001b[0mrandint\u001b[0m\u001b[0;34m(\u001b[0m\u001b[0;36m0\u001b[0m\u001b[0;34m,\u001b[0m \u001b[0;36m500\u001b[0m\u001b[0;34m)\u001b[0m\u001b[0;34m,\u001b[0m \u001b[0my\u001b[0m\u001b[0;34m=\u001b[0m\u001b[0mrandom\u001b[0m\u001b[0;34m.\u001b[0m\u001b[0mrandint\u001b[0m\u001b[0;34m(\u001b[0m\u001b[0;36m0\u001b[0m\u001b[0;34m,\u001b[0m \u001b[0;36m500\u001b[0m\u001b[0;34m)\u001b[0m\u001b[0;34m)\u001b[0m\u001b[0;34m\u001b[0m\u001b[0;34m\u001b[0m\u001b[0m\n\u001b[1;32m     13\u001b[0m \u001b[0;34m\u001b[0m\u001b[0m\n\u001b[0;32m---> 14\u001b[0;31m \u001b[0mroot\u001b[0m \u001b[0;34m=\u001b[0m \u001b[0mTk\u001b[0m\u001b[0;34m(\u001b[0m\u001b[0;34m)\u001b[0m\u001b[0;34m\u001b[0m\u001b[0;34m\u001b[0m\u001b[0m\n\u001b[0m\u001b[1;32m     15\u001b[0m \u001b[0mroot\u001b[0m\u001b[0;34m.\u001b[0m\u001b[0mgeometry\u001b[0m\u001b[0;34m(\u001b[0m\u001b[0;34m'600x600'\u001b[0m\u001b[0;34m)\u001b[0m\u001b[0;34m\u001b[0m\u001b[0;34m\u001b[0m\u001b[0m\n\u001b[1;32m     16\u001b[0m \u001b[0mroot\u001b[0m\u001b[0;34m.\u001b[0m\u001b[0mtitle\u001b[0m\u001b[0;34m(\u001b[0m\u001b[0;34m'survey'\u001b[0m\u001b[0;34m)\u001b[0m\u001b[0;34m\u001b[0m\u001b[0;34m\u001b[0m\u001b[0m\n",
            "\u001b[0;32m/usr/lib/python3.10/tkinter/__init__.py\u001b[0m in \u001b[0;36m__init__\u001b[0;34m(self, screenName, baseName, className, useTk, sync, use)\u001b[0m\n\u001b[1;32m   2297\u001b[0m                 \u001b[0mbaseName\u001b[0m \u001b[0;34m=\u001b[0m \u001b[0mbaseName\u001b[0m \u001b[0;34m+\u001b[0m \u001b[0mext\u001b[0m\u001b[0;34m\u001b[0m\u001b[0;34m\u001b[0m\u001b[0m\n\u001b[1;32m   2298\u001b[0m         \u001b[0minteractive\u001b[0m \u001b[0;34m=\u001b[0m \u001b[0;32mFalse\u001b[0m\u001b[0;34m\u001b[0m\u001b[0;34m\u001b[0m\u001b[0m\n\u001b[0;32m-> 2299\u001b[0;31m         \u001b[0mself\u001b[0m\u001b[0;34m.\u001b[0m\u001b[0mtk\u001b[0m \u001b[0;34m=\u001b[0m \u001b[0m_tkinter\u001b[0m\u001b[0;34m.\u001b[0m\u001b[0mcreate\u001b[0m\u001b[0;34m(\u001b[0m\u001b[0mscreenName\u001b[0m\u001b[0;34m,\u001b[0m \u001b[0mbaseName\u001b[0m\u001b[0;34m,\u001b[0m \u001b[0mclassName\u001b[0m\u001b[0;34m,\u001b[0m \u001b[0minteractive\u001b[0m\u001b[0;34m,\u001b[0m \u001b[0mwantobjects\u001b[0m\u001b[0;34m,\u001b[0m \u001b[0museTk\u001b[0m\u001b[0;34m,\u001b[0m \u001b[0msync\u001b[0m\u001b[0;34m,\u001b[0m \u001b[0muse\u001b[0m\u001b[0;34m)\u001b[0m\u001b[0;34m\u001b[0m\u001b[0;34m\u001b[0m\u001b[0m\n\u001b[0m\u001b[1;32m   2300\u001b[0m         \u001b[0;32mif\u001b[0m \u001b[0museTk\u001b[0m\u001b[0;34m:\u001b[0m\u001b[0;34m\u001b[0m\u001b[0;34m\u001b[0m\u001b[0m\n\u001b[1;32m   2301\u001b[0m             \u001b[0mself\u001b[0m\u001b[0;34m.\u001b[0m\u001b[0m_loadtk\u001b[0m\u001b[0;34m(\u001b[0m\u001b[0;34m)\u001b[0m\u001b[0;34m\u001b[0m\u001b[0;34m\u001b[0m\u001b[0m\n",
            "\u001b[0;31mTclError\u001b[0m: couldn't connect to display \"\""
          ]
        }
      ]
    },
    {
      "cell_type": "code",
      "source": [
        "def perguntar_namoro():\n",
        "    resposta = input(\"você ja deu: \")\n",
        "\n",
        "    if resposta.lower() == \"sim\":\n",
        "        print(\"Yay! Isso é maravilhoso! 😊 Vamos ser um casal!\")\n",
        "    elif resposta.lower() == \"não\":\n",
        "        print(\"Ah, tudo bem. A amizade sempre é importante! 😊\")\n",
        "    else:\n",
        "        print(\"Desculpe, não entendi a resposta. Por favor, responda com 'sim' ou 'não'.\")\n",
        "\n",
        "# Chama a função para fazer a pergunta\n",
        "perguntar_namoro()\n"
      ],
      "metadata": {
        "colab": {
          "base_uri": "https://localhost:8080/"
        },
        "id": "mcqfQTyJ5rtl",
        "outputId": "99d74368-5e09-4f11-8ed4-b0c99955327f"
      },
      "execution_count": null,
      "outputs": [
        {
          "output_type": "stream",
          "name": "stdout",
          "text": [
            "Olá! Gostaria de namorar comigo? (sim/não): não\n",
            "Ah, tudo bem. A amizade sempre é importante! 😊\n"
          ]
        }
      ]
    }
  ]
}