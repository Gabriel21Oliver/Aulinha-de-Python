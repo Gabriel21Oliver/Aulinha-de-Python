{
  "nbformat": 4,
  "nbformat_minor": 0,
  "metadata": {
    "colab": {
      "provenance": [],
      "toc_visible": true,
      "authorship_tag": "ABX9TyPIy3u+kNSP63goqm0jOO26"
    },
    "kernelspec": {
      "name": "python3",
      "display_name": "Python 3"
    },
    "language_info": {
      "name": "python"
    }
  },
  "cells": [
    {
      "cell_type": "code",
      "execution_count": null,
      "metadata": {
        "colab": {
          "base_uri": "https://localhost:8080/"
        },
        "id": "yc4GX7kCV6Vw",
        "outputId": "3b6462fa-f385-448c-e849-3e6719882239"
      },
      "outputs": [
        {
          "output_type": "stream",
          "name": "stdout",
          "text": [
            "<Response [200]>\n"
          ]
        }
      ],
      "source": [
        "import requests, json\n",
        "import sqlite3\n",
        "covid = requests.get ('https://covid19-brazil-api.now.sh/api/report/v1/brazil')\n",
        "\n",
        "print(covid)\n",
        "\n",
        "\n"
      ]
    },
    {
      "cell_type": "markdown",
      "source": [
        "# Nova seção"
      ],
      "metadata": {
        "id": "0E2s1wNxb9BW"
      }
    },
    {
      "cell_type": "code",
      "source": [
        "\n",
        "import sqlite3\n",
        "import requests\n",
        "\n",
        "url = 'https://disease.sh/v3/covid-19/countries/brazil'\n",
        "resposta = requests.get(url)\n",
        "\n",
        "if resposta.status_code == 200:\n",
        "  casos= float (resposta.json()['cases'])\n",
        "  casosFormatado = f'{casos:_.2f}'\n",
        "  casosFormatado = casosFormatado.replace('.', ',').replace('_','.')\n",
        "  print(casosFormatado)\n",
        "else:\n",
        "  print(\"falhou\")\n",
        "\n",
        "\n",
        "\n",
        "con = sqlite3.connect('casosCovid')\n",
        "print('conexao aberta!!');\n",
        "\n",
        "#Criando covid no sqlite\n",
        "\n",
        "con.execute(\"CREATE TABLE IF NOT EXISTS covid(CasosCovid integer PRIMARY KEY AUTOINCREMENT, confirmados int, obitos int);\")\n",
        "con.commit()\n",
        "\n",
        "print('tabela criada com sucesso!')\n",
        "\n",
        "con.execute(\"INSERT INTO covid(confirmados,obito) VALUES('+casosFormatado+'); \")\n",
        "con.commit()\n",
        "\n",
        "\n"
      ],
      "metadata": {
        "colab": {
          "base_uri": "https://localhost:8080/",
          "height": 269
        },
        "id": "86TbRX9FcIsF",
        "outputId": "fdc5bac0-c8ca-4344-d19e-5f678f82e38b"
      },
      "execution_count": null,
      "outputs": [
        {
          "output_type": "stream",
          "name": "stdout",
          "text": [
            "35.212.035,00\n",
            "conexao aberta!!\n"
          ]
        },
        {
          "output_type": "error",
          "ename": "OperationalError",
          "evalue": "ignored",
          "traceback": [
            "\u001b[0;31m---------------------------------------------------------------------------\u001b[0m",
            "\u001b[0;31mOperationalError\u001b[0m                          Traceback (most recent call last)",
            "\u001b[0;32m<ipython-input-23-9a1cb53ca752>\u001b[0m in \u001b[0;36m<module>\u001b[0;34m\u001b[0m\n\u001b[1;32m     23\u001b[0m \u001b[0mcon\u001b[0m\u001b[0;34m.\u001b[0m\u001b[0mcommit\u001b[0m\u001b[0;34m(\u001b[0m\u001b[0;34m)\u001b[0m\u001b[0;34m\u001b[0m\u001b[0;34m\u001b[0m\u001b[0m\n\u001b[1;32m     24\u001b[0m \u001b[0;34m\u001b[0m\u001b[0m\n\u001b[0;32m---> 25\u001b[0;31m \u001b[0mcon\u001b[0m\u001b[0;34m.\u001b[0m\u001b[0mexecute\u001b[0m\u001b[0;34m(\u001b[0m\u001b[0;34m\"INSERT INTO covid(confirmados,obito) VALUES('+casosFormatado+'); \"\u001b[0m\u001b[0;34m)\u001b[0m\u001b[0;34m\u001b[0m\u001b[0;34m\u001b[0m\u001b[0m\n\u001b[0m\u001b[1;32m     26\u001b[0m \u001b[0mcon\u001b[0m\u001b[0;34m.\u001b[0m\u001b[0mcommit\u001b[0m\u001b[0;34m(\u001b[0m\u001b[0;34m)\u001b[0m\u001b[0;34m\u001b[0m\u001b[0;34m\u001b[0m\u001b[0m\n\u001b[1;32m     27\u001b[0m \u001b[0;34m\u001b[0m\u001b[0m\n",
            "\u001b[0;31mOperationalError\u001b[0m: table covid has no column named obito"
          ]
        }
      ]
    },
    {
      "cell_type": "code",
      "source": [
        "import requests\n",
        "\n",
        "url = 'https://disease.sh/v3/covid-19/countries/brazil'\n",
        "resposta = requests.get(url)\n",
        "\n",
        "if resposta.status_code == 200:\n",
        "  casos= float (resposta.json()['cases'])\n",
        "  casosFormatado = f'{casos:_.2f}'\n",
        "  casosFormatado = casosFormatado.replace('.', ',').replace('_','.')\n",
        "  print(casosFormatado)\n",
        "else:\n",
        "  print(\"falhou\")"
      ],
      "metadata": {
        "colab": {
          "base_uri": "https://localhost:8080/"
        },
        "outputId": "6f0e51cc-4522-4f81-c9ea-bc2a63a2fa0f",
        "id": "5lO8llYIg3uK"
      },
      "execution_count": null,
      "outputs": [
        {
          "output_type": "stream",
          "name": "stdout",
          "text": [
            "35.212.035,00\n"
          ]
        }
      ]
    },
    {
      "cell_type": "code",
      "source": [
        "import requests\n",
        "\n",
        "url = 'https://disease.sh/v3/covid-19/countries/brazil'\n",
        "resposta = requests.get(url)\n",
        "\n",
        "if resposta.status_code == 200:\n",
        "  casos= float (resposta.json()['cases'])\n",
        "  casosFormatado = f'{casos:_.2f}'\n",
        "  casosFormatado = casosFormatado.replace('.', ',').replace('_','.')\n",
        "  print(casosFormatado)\n",
        "else:\n",
        "  print(\"falhou\")"
      ],
      "metadata": {
        "colab": {
          "base_uri": "https://localhost:8080/"
        },
        "outputId": "6f0e51cc-4522-4f81-c9ea-bc2a63a2fa0f",
        "id": "oYfyJo5agyGw"
      },
      "execution_count": null,
      "outputs": [
        {
          "output_type": "stream",
          "name": "stdout",
          "text": [
            "35.212.035,00\n"
          ]
        }
      ]
    },
    {
      "cell_type": "code",
      "source": [
        "import requests\n",
        "\n",
        "url = 'https://disease.sh/v3/covid-19/countries/brazil'\n",
        "resposta = requests.get(url)\n",
        "\n",
        "if resposta.status_code == 200:\n",
        "  casos= float (resposta.json()['cases'])\n",
        "  casosFormatado = f'{casos:_.2f}'\n",
        "  casosFormatado = casosFormatado.replace('.', ',').replace('_','.')\n",
        "  print(casosFormatado)\n",
        "else:\n",
        "  print(\"falhou\")"
      ],
      "metadata": {
        "colab": {
          "base_uri": "https://localhost:8080/"
        },
        "id": "c1T27KVFe2MN",
        "outputId": "6f0e51cc-4522-4f81-c9ea-bc2a63a2fa0f"
      },
      "execution_count": null,
      "outputs": [
        {
          "output_type": "stream",
          "name": "stdout",
          "text": [
            "35.212.035,00\n"
          ]
        }
      ]
    },
    {
      "cell_type": "code",
      "source": [
        "con.execute(\"INSERT INTO covid(confirmados,obito) VALUES('+casosFormatado+'); \")\n",
        "con.commit()"
      ],
      "metadata": {
        "id": "8xSjPPvcgByP"
      },
      "execution_count": null,
      "outputs": []
    }
  ]
}