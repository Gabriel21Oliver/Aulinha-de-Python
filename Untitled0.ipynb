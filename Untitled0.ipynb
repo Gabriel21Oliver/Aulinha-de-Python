{
  "nbformat": 4,
  "nbformat_minor": 0,
  "metadata": {
    "colab": {
      "provenance": [],
      "toc_visible": true,
      "authorship_tag": "ABX9TyP3dkpbLrdTKj/8HQWn0Tfy",
      "include_colab_link": true
    },
    "kernelspec": {
      "name": "python3",
      "display_name": "Python 3"
    },
    "language_info": {
      "name": "python"
    }
  },
  "cells": [
    {
      "cell_type": "markdown",
      "metadata": {
        "id": "view-in-github",
        "colab_type": "text"
      },
      "source": [
        "<a href=\"https://colab.research.google.com/github/Gabriel21Oliver/Aulinha-de-Python/blob/main/Untitled0.ipynb\" target=\"_parent\"><img src=\"https://colab.research.google.com/assets/colab-badge.svg\" alt=\"Open In Colab\"/></a>"
      ]
    },
    {
      "cell_type": "code",
      "execution_count": null,
      "metadata": {
        "colab": {
          "base_uri": "https://localhost:8080/"
        },
        "id": "TaelGMbUth-9",
        "outputId": "96b3f708-c163-45a2-ec2f-7fe351514cf1"
      },
      "outputs": [
        {
          "output_type": "stream",
          "name": "stdout",
          "text": [
            "digite um numero23\n",
            "digite outro numero45\n",
            "a soma sera68 e a multiplicação sera0\n"
          ]
        }
      ],
      "source": [
        "\n",
        "n1 = int(input('digite um numero'))\n",
        "n2 = int(input('digite outro numero'))\n",
        "s = n1+n2\n",
        "m = n1*n2\n",
        "di = n1//n2\n",
        "\n",
        "print(f'a soma sera{s} e a multiplicação sera{di}')\n"
      ]
    },
    {
      "cell_type": "code",
      "source": [
        "n1 = int(input('digete o seu Saldo'))\n",
        "c = n1//100\n",
        "n1 = n1%100\n",
        "cc =n1//50\n",
        "d = n1//10\n",
        "n1 = n1%10\n",
        "n1 = n1%50\n",
        "u = n1//1\n",
        "n1=n1%1\n",
        "print(f'o seu saldo podera ser sacado {c} notas de cem resta ')\n",
        "print(f' {d} notas de 10')\n",
        "print(f'agora com seu saldo podera sacado com {cc} com notas de 50 e resta ')\n",
        "print(f'e por ultimo seu saldo podera saca {u} com notas de um e resta')\n"
      ],
      "metadata": {
        "colab": {
          "base_uri": "https://localhost:8080/"
        },
        "id": "AEr9sH1J7byb",
        "outputId": "5c82f758-c575-4e97-8473-8b2f98b2a14d"
      },
      "execution_count": null,
      "outputs": [
        {
          "output_type": "stream",
          "name": "stdout",
          "text": [
            "digete o seu Saldo1400\n",
            "o seu saldo podera ser sacado 14 notas de cem resta \n",
            " 0 notas de 10\n",
            "agora com seu saldo podera sacado com 0 com notas de 50 e resta \n",
            "e por ultimo seu saldo podera saca 0 com notas de um e resta\n"
          ]
        }
      ]
    },
    {
      "cell_type": "code",
      "source": [
        "a = 1\n",
        "b = 2\n",
        "c = '1'\n",
        "d = '2'\n",
        "\n"
      ],
      "metadata": {
        "id": "ySSIV0Cd2qtO"
      },
      "execution_count": null,
      "outputs": []
    }
  ]
}