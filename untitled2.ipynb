{
  "nbformat": 4,
  "nbformat_minor": 0,
  "metadata": {
    "colab": {
      "provenance": [],
      "toc_visible": true,
      "authorship_tag": "ABX9TyMITl70M3VXb/wA6O9sS8ZB"
    },
    "kernelspec": {
      "name": "python3",
      "display_name": "Python 3"
    },
    "language_info": {
      "name": "python"
    }
  },
  "cells": [
    {
      "cell_type": "code",
      "execution_count": null,
      "metadata": {
        "colab": {
          "base_uri": "https://localhost:8080/"
        },
        "id": "OHFE5ntqtkRB",
        "outputId": "032c9ace-91d5-4f69-9aef-88c9a2ebfa38"
      },
      "outputs": [
        {
          "output_type": "stream",
          "name": "stdout",
          "text": [
            "digite um numero 143232\n",
            "esse numero nao é primo\n"
          ]
        }
      ],
      "source": [
        "n1 = int(input('digite um numero '))\n",
        "n2 = n1%2\n",
        "\n",
        "if(n2==0):\n",
        "\n",
        "  print('esse numero nao é primo')\n",
        "else:\n",
        "  print('este numero é primo')\n",
        "\n"
      ]
    },
    {
      "cell_type": "code",
      "source": [
        "\n",
        "n1 = int(input('digite um numero '))\n",
        "cont = 0;\n",
        "for i in range(n1+1):\n",
        "  if(n1%(i+1)==0):\n",
        "    cont = cont+1;\n",
        "\n",
        "if(cont== 2):\n",
        "  print('primo')\n",
        "else:\n",
        "  print('nao e primo')\n",
        "\n",
        "\n",
        "\n",
        "\n"
      ],
      "metadata": {
        "colab": {
          "base_uri": "https://localhost:8080/"
        },
        "id": "b_Qx8C9R0LkG",
        "outputId": "a71bf4e1-c314-4f2e-8999-9161c80cf5a6"
      },
      "execution_count": null,
      "outputs": [
        {
          "output_type": "stream",
          "name": "stdout",
          "text": [
            "digite um numero 12\n",
            "nao e primo\n"
          ]
        }
      ]
    },
    {
      "cell_type": "code",
      "source": [
        "def ola(num1, num2):\n",
        "  soma = num1+num2;\n",
        "  return soma;\n",
        "a = int(input('digite um numero: '))\n",
        "b = int( input('digite outro numero:'))\n",
        "print(ola(a,b))\n"
      ],
      "metadata": {
        "colab": {
          "base_uri": "https://localhost:8080/"
        },
        "id": "yrsXkCbY4TfB",
        "outputId": "892f0946-87b8-464b-be78-4b10ff3f0cb4"
      },
      "execution_count": null,
      "outputs": [
        {
          "output_type": "stream",
          "name": "stdout",
          "text": [
            "digite um numero: 2\n",
            "digite outro numero:4\n",
            "6\n"
          ]
        }
      ]
    },
    {
      "cell_type": "code",
      "source": [
        "\n"
      ],
      "metadata": {
        "id": "Fz5YxxGXCS5z"
      },
      "execution_count": null,
      "outputs": []
    },
    {
      "cell_type": "code",
      "source": [
        "def socorro(n1):\n",
        "  #comando do deff\n",
        "\n",
        "  cont = 0;\n",
        "  for i in range(n1+1):\n",
        "    if(n1%(i+1)==0):\n",
        "      cont = cont+1;\n",
        "\n",
        "  if(cont== 2):\n",
        "    print('primo')\n",
        "  else:\n",
        "    print('nao e primo')\n",
        "\n",
        "n1 = int(input('digite o numuero '))\n",
        "# agora so digitar \"socorro\" e ele ira entender\n",
        "\n",
        "socorro(n1)\n",
        "\n",
        "socorro(int(input('digite outro numero')))\n",
        "socorro(int(input('digite outro numero' )))\n",
        "\n",
        "\n",
        "\n",
        "\n"
      ],
      "metadata": {
        "colab": {
          "base_uri": "https://localhost:8080/"
        },
        "id": "xFijcrpcDC3Z",
        "outputId": "856d43e5-3073-49d5-c0be-287e2f1751c8"
      },
      "execution_count": null,
      "outputs": [
        {
          "output_type": "stream",
          "name": "stdout",
          "text": [
            "digite o numuero 21\n",
            "nao e primo\n",
            "digite outro numero34\n",
            "nao e primo\n",
            "digite outro numero2\n",
            "primo\n"
          ]
        }
      ]
    },
    {
      "cell_type": "code",
      "source": [
        "meuvetor = []\n",
        "meuvetor.append(1)\n",
        "meuvetor.append(2)\n",
        "meuvetor.append('a')\n",
        "print(len(meuvetor))\n",
        "for i in meuvetor:\n",
        "  print(i)\n"
      ],
      "metadata": {
        "colab": {
          "base_uri": "https://localhost:8080/"
        },
        "id": "TSHiNcLoMneA",
        "outputId": "b93ae0fa-154d-41b6-e970-c2350006ef62"
      },
      "execution_count": null,
      "outputs": [
        {
          "output_type": "stream",
          "name": "stdout",
          "text": [
            "3\n",
            "1\n",
            "2\n",
            "a\n"
          ]
        }
      ]
    },
    {
      "cell_type": "code",
      "source": [],
      "metadata": {
        "id": "6IW-uNA27Ns9"
      },
      "execution_count": null,
      "outputs": []
    },
    {
      "cell_type": "markdown",
      "source": [
        "# Nova seção"
      ],
      "metadata": {
        "id": "8ZVDZbAvt0_V"
      }
    }
  ]
}